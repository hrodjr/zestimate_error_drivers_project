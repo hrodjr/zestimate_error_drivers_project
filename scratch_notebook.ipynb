{
 "cells": [
  {
   "cell_type": "code",
   "execution_count": 1,
   "id": "a6b75585",
   "metadata": {},
   "outputs": [],
   "source": [
    "# ignore warnings\n",
    "import warnings\n",
    "warnings.filterwarnings(\"ignore\")\n",
    "\n",
    "#libraries\n",
    "import pandas as pd\n",
    "import numpy as np\n",
    "import seaborn as sns\n",
    "from datetime import date\n",
    "\n",
    "# Visualizing\n",
    "import matplotlib.pyplot as plt\n",
    "from matplotlib import cm\n",
    "import seaborn as sns\n",
    "from sklearn.model_selection import learning_curve\n",
    "\n",
    "pd.options.display.float_format = '{:20,.2f}'.format\n",
    "\n",
    "#my libraries\n",
    "from wrangle import get_connection, get_zillow_data, handle_missing_values, remove_columns, wrangle_zillow, remove_outliers, train_validate_test_split\n",
    "from explore import explore_univariate, exp_bivariate_categorical, exp_bivariate_continuous, exp_multivariate, exp_bivariate_categorical\n",
    "import env\n",
    "\n",
    "#library imports\n",
    "from datetime import date\n",
    "from sklearn.model_selection import train_test_split\n",
    "\n",
    "# Statistical Tests\n",
    "import scipy.stats as stats"
   ]
  },
  {
   "cell_type": "code",
   "execution_count": 2,
   "id": "8643318a",
   "metadata": {},
   "outputs": [
    {
     "data": {
      "text/html": [
       "<div>\n",
       "<style scoped>\n",
       "    .dataframe tbody tr th:only-of-type {\n",
       "        vertical-align: middle;\n",
       "    }\n",
       "\n",
       "    .dataframe tbody tr th {\n",
       "        vertical-align: top;\n",
       "    }\n",
       "\n",
       "    .dataframe thead th {\n",
       "        text-align: right;\n",
       "    }\n",
       "</style>\n",
       "<table border=\"1\" class=\"dataframe\">\n",
       "  <thead>\n",
       "    <tr style=\"text-align: right;\">\n",
       "      <th></th>\n",
       "      <th>parcelid</th>\n",
       "      <th>typeconstructiontypeid</th>\n",
       "      <th>storytypeid</th>\n",
       "      <th>propertylandusetypeid</th>\n",
       "      <th>heatingorsystemtypeid</th>\n",
       "      <th>buildingclasstypeid</th>\n",
       "      <th>architecturalstyletypeid</th>\n",
       "      <th>airconditioningtypeid</th>\n",
       "      <th>id</th>\n",
       "      <th>basementsqft</th>\n",
       "      <th>...</th>\n",
       "      <th>id</th>\n",
       "      <th>logerror</th>\n",
       "      <th>transactiondate</th>\n",
       "      <th>airconditioningdesc</th>\n",
       "      <th>architecturalstyledesc</th>\n",
       "      <th>buildingclassdesc</th>\n",
       "      <th>heatingorsystemdesc</th>\n",
       "      <th>propertylandusedesc</th>\n",
       "      <th>storydesc</th>\n",
       "      <th>typeconstructiondesc</th>\n",
       "    </tr>\n",
       "  </thead>\n",
       "  <tbody>\n",
       "    <tr>\n",
       "      <th>0</th>\n",
       "      <td>14297519</td>\n",
       "      <td>NaN</td>\n",
       "      <td>NaN</td>\n",
       "      <td>261.00</td>\n",
       "      <td>NaN</td>\n",
       "      <td>NaN</td>\n",
       "      <td>NaN</td>\n",
       "      <td>NaN</td>\n",
       "      <td>1727539</td>\n",
       "      <td>NaN</td>\n",
       "      <td>...</td>\n",
       "      <td>0</td>\n",
       "      <td>0.03</td>\n",
       "      <td>2017-01-01</td>\n",
       "      <td>None</td>\n",
       "      <td>None</td>\n",
       "      <td>None</td>\n",
       "      <td>None</td>\n",
       "      <td>Single Family Residential</td>\n",
       "      <td>None</td>\n",
       "      <td>None</td>\n",
       "    </tr>\n",
       "    <tr>\n",
       "      <th>1</th>\n",
       "      <td>17052889</td>\n",
       "      <td>NaN</td>\n",
       "      <td>NaN</td>\n",
       "      <td>261.00</td>\n",
       "      <td>NaN</td>\n",
       "      <td>NaN</td>\n",
       "      <td>NaN</td>\n",
       "      <td>NaN</td>\n",
       "      <td>1387261</td>\n",
       "      <td>NaN</td>\n",
       "      <td>...</td>\n",
       "      <td>1</td>\n",
       "      <td>0.06</td>\n",
       "      <td>2017-01-01</td>\n",
       "      <td>None</td>\n",
       "      <td>None</td>\n",
       "      <td>None</td>\n",
       "      <td>None</td>\n",
       "      <td>Single Family Residential</td>\n",
       "      <td>None</td>\n",
       "      <td>None</td>\n",
       "    </tr>\n",
       "  </tbody>\n",
       "</table>\n",
       "<p>2 rows × 69 columns</p>\n",
       "</div>"
      ],
      "text/plain": [
       "   parcelid  typeconstructiontypeid  storytypeid  propertylandusetypeid  \\\n",
       "0  14297519                     NaN          NaN                 261.00   \n",
       "1  17052889                     NaN          NaN                 261.00   \n",
       "\n",
       "   heatingorsystemtypeid  buildingclasstypeid  architecturalstyletypeid  \\\n",
       "0                    NaN                  NaN                       NaN   \n",
       "1                    NaN                  NaN                       NaN   \n",
       "\n",
       "   airconditioningtypeid       id  basementsqft  ...  id             logerror  \\\n",
       "0                    NaN  1727539           NaN  ...   0                 0.03   \n",
       "1                    NaN  1387261           NaN  ...   1                 0.06   \n",
       "\n",
       "   transactiondate  airconditioningdesc  architecturalstyledesc  \\\n",
       "0       2017-01-01                 None                    None   \n",
       "1       2017-01-01                 None                    None   \n",
       "\n",
       "   buildingclassdesc  heatingorsystemdesc        propertylandusedesc  \\\n",
       "0               None                 None  Single Family Residential   \n",
       "1               None                 None  Single Family Residential   \n",
       "\n",
       "   storydesc  typeconstructiondesc  \n",
       "0       None                  None  \n",
       "1       None                  None  \n",
       "\n",
       "[2 rows x 69 columns]"
      ]
     },
     "execution_count": 2,
     "metadata": {},
     "output_type": "execute_result"
    }
   ],
   "source": [
    "df = get_zillow_data()\n",
    "df.head(2)"
   ]
  },
  {
   "cell_type": "code",
   "execution_count": 3,
   "id": "0995ae97",
   "metadata": {},
   "outputs": [
    {
     "data": {
      "text/plain": [
       "(77579, 69)"
      ]
     },
     "execution_count": 3,
     "metadata": {},
     "output_type": "execute_result"
    }
   ],
   "source": [
    "df.shape"
   ]
  },
  {
   "cell_type": "code",
   "execution_count": 4,
   "id": "08e9b874",
   "metadata": {},
   "outputs": [
    {
     "data": {
      "text/html": [
       "<div>\n",
       "<style scoped>\n",
       "    .dataframe tbody tr th:only-of-type {\n",
       "        vertical-align: middle;\n",
       "    }\n",
       "\n",
       "    .dataframe tbody tr th {\n",
       "        vertical-align: top;\n",
       "    }\n",
       "\n",
       "    .dataframe thead th {\n",
       "        text-align: right;\n",
       "    }\n",
       "</style>\n",
       "<table border=\"1\" class=\"dataframe\">\n",
       "  <thead>\n",
       "    <tr style=\"text-align: right;\">\n",
       "      <th></th>\n",
       "      <th>bathrooms</th>\n",
       "      <th>bedrooms</th>\n",
       "      <th>square_feet</th>\n",
       "      <th>latitude</th>\n",
       "      <th>longitude</th>\n",
       "      <th>lot_size</th>\n",
       "      <th>tax_value</th>\n",
       "      <th>property_value</th>\n",
       "      <th>logerror</th>\n",
       "      <th>county</th>\n",
       "      <th>age</th>\n",
       "      <th>tax_rate</th>\n",
       "      <th>price_per_sqft</th>\n",
       "    </tr>\n",
       "  </thead>\n",
       "  <tbody>\n",
       "    <tr>\n",
       "      <th>0</th>\n",
       "      <td>3</td>\n",
       "      <td>4</td>\n",
       "      <td>3100</td>\n",
       "      <td>33,634,931.00</td>\n",
       "      <td>-117,869,207.00</td>\n",
       "      <td>4506</td>\n",
       "      <td>1023282</td>\n",
       "      <td>537569</td>\n",
       "      <td>0.03</td>\n",
       "      <td>Orange</td>\n",
       "      <td>23</td>\n",
       "      <td>0.01</td>\n",
       "      <td>330</td>\n",
       "    </tr>\n",
       "    <tr>\n",
       "      <th>1</th>\n",
       "      <td>1</td>\n",
       "      <td>2</td>\n",
       "      <td>1465</td>\n",
       "      <td>34,449,266.00</td>\n",
       "      <td>-119,281,531.00</td>\n",
       "      <td>12647</td>\n",
       "      <td>464000</td>\n",
       "      <td>376000</td>\n",
       "      <td>0.06</td>\n",
       "      <td>Ventura</td>\n",
       "      <td>54</td>\n",
       "      <td>0.01</td>\n",
       "      <td>316</td>\n",
       "    </tr>\n",
       "    <tr>\n",
       "      <th>2</th>\n",
       "      <td>2</td>\n",
       "      <td>3</td>\n",
       "      <td>1243</td>\n",
       "      <td>33,886,168.00</td>\n",
       "      <td>-117,823,170.00</td>\n",
       "      <td>8432</td>\n",
       "      <td>564778</td>\n",
       "      <td>479489</td>\n",
       "      <td>0.01</td>\n",
       "      <td>Orange</td>\n",
       "      <td>59</td>\n",
       "      <td>0.01</td>\n",
       "      <td>454</td>\n",
       "    </tr>\n",
       "    <tr>\n",
       "      <th>3</th>\n",
       "      <td>3</td>\n",
       "      <td>4</td>\n",
       "      <td>2376</td>\n",
       "      <td>34,245,180.00</td>\n",
       "      <td>-118,240,722.00</td>\n",
       "      <td>13038</td>\n",
       "      <td>145143</td>\n",
       "      <td>36225</td>\n",
       "      <td>-0.10</td>\n",
       "      <td>Los Angeles</td>\n",
       "      <td>51</td>\n",
       "      <td>0.01</td>\n",
       "      <td>61</td>\n",
       "    </tr>\n",
       "    <tr>\n",
       "      <th>4</th>\n",
       "      <td>3</td>\n",
       "      <td>3</td>\n",
       "      <td>1312</td>\n",
       "      <td>34,185,120.00</td>\n",
       "      <td>-118,414,640.00</td>\n",
       "      <td>278581</td>\n",
       "      <td>119407</td>\n",
       "      <td>45726</td>\n",
       "      <td>0.01</td>\n",
       "      <td>Los Angeles</td>\n",
       "      <td>57</td>\n",
       "      <td>0.01</td>\n",
       "      <td>91</td>\n",
       "    </tr>\n",
       "  </tbody>\n",
       "</table>\n",
       "</div>"
      ],
      "text/plain": [
       "   bathrooms  bedrooms  square_feet             latitude            longitude  \\\n",
       "0          3         4         3100        33,634,931.00      -117,869,207.00   \n",
       "1          1         2         1465        34,449,266.00      -119,281,531.00   \n",
       "2          2         3         1243        33,886,168.00      -117,823,170.00   \n",
       "3          3         4         2376        34,245,180.00      -118,240,722.00   \n",
       "4          3         3         1312        34,185,120.00      -118,414,640.00   \n",
       "\n",
       "   lot_size  tax_value  property_value             logerror       county  age  \\\n",
       "0      4506    1023282          537569                 0.03       Orange   23   \n",
       "1     12647     464000          376000                 0.06      Ventura   54   \n",
       "2      8432     564778          479489                 0.01       Orange   59   \n",
       "3     13038     145143           36225                -0.10  Los Angeles   51   \n",
       "4    278581     119407           45726                 0.01  Los Angeles   57   \n",
       "\n",
       "              tax_rate  price_per_sqft  \n",
       "0                 0.01             330  \n",
       "1                 0.01             316  \n",
       "2                 0.01             454  \n",
       "3                 0.01              61  \n",
       "4                 0.01              91  "
      ]
     },
     "execution_count": 4,
     "metadata": {},
     "output_type": "execute_result"
    }
   ],
   "source": [
    "df = wrangle_zillow(df)\n",
    "df.head()"
   ]
  },
  {
   "cell_type": "code",
   "execution_count": 5,
   "id": "799d8ef2",
   "metadata": {},
   "outputs": [
    {
     "data": {
      "text/plain": [
       "(69684, 13)"
      ]
     },
     "execution_count": 5,
     "metadata": {},
     "output_type": "execute_result"
    }
   ],
   "source": [
    "df.shape"
   ]
  },
  {
   "cell_type": "code",
   "execution_count": 6,
   "id": "1d90c089",
   "metadata": {},
   "outputs": [
    {
     "name": "stdout",
     "output_type": "stream",
     "text": [
      "<class 'pandas.core.frame.DataFrame'>\n",
      "Int64Index: 69684 entries, 0 to 77578\n",
      "Data columns (total 13 columns):\n",
      " #   Column          Non-Null Count  Dtype  \n",
      "---  ------          --------------  -----  \n",
      " 0   bathrooms       69684 non-null  int64  \n",
      " 1   bedrooms        69684 non-null  int64  \n",
      " 2   square_feet     69684 non-null  int64  \n",
      " 3   latitude        69684 non-null  float64\n",
      " 4   longitude       69684 non-null  float64\n",
      " 5   lot_size        69684 non-null  int64  \n",
      " 6   tax_value       69684 non-null  int64  \n",
      " 7   property_value  69684 non-null  int64  \n",
      " 8   logerror        69684 non-null  float64\n",
      " 9   county          69684 non-null  object \n",
      " 10  age             69684 non-null  int64  \n",
      " 11  tax_rate        69684 non-null  float64\n",
      " 12  price_per_sqft  69684 non-null  int64  \n",
      "dtypes: float64(4), int64(8), object(1)\n",
      "memory usage: 7.4+ MB\n"
     ]
    }
   ],
   "source": [
    "df.info()"
   ]
  },
  {
   "cell_type": "code",
   "execution_count": null,
   "id": "c38f13d7",
   "metadata": {},
   "outputs": [],
   "source": [
    "#https://towardsdatascience.com/geopandas-101-plot-any-data-with-a-latitude-and-longitude-on-a-map-98e01944b972"
   ]
  },
  {
   "cell_type": "code",
   "execution_count": null,
   "id": "acb81526",
   "metadata": {},
   "outputs": [],
   "source": [
    "prepare.get_hist(df)"
   ]
  },
  {
   "cell_type": "code",
   "execution_count": null,
   "id": "0bb8df74",
   "metadata": {},
   "outputs": [],
   "source": [
    "prepare.get_box(df)"
   ]
  },
  {
   "cell_type": "code",
   "execution_count": null,
   "id": "3f7a8836",
   "metadata": {},
   "outputs": [],
   "source": [
    "df = prepare.remove_outliers(df, k = 1.5 , col_list = ['bathrooms', 'bedrooms', 'tax_value', 'tax_rate', 'square_feet', 'age', 'log_error'])\n",
    "df.head()"
   ]
  },
  {
   "cell_type": "code",
   "execution_count": null,
   "id": "78a5f130",
   "metadata": {},
   "outputs": [],
   "source": [
    "prepare.get_hist(df)"
   ]
  },
  {
   "cell_type": "code",
   "execution_count": null,
   "id": "a5afd2bd",
   "metadata": {},
   "outputs": [],
   "source": [
    "prepare.get_box(df)"
   ]
  },
  {
   "cell_type": "code",
   "execution_count": null,
   "id": "cf707204",
   "metadata": {},
   "outputs": [],
   "source": [
    "train, validate, test = prepare.train_validate_test_split(df)"
   ]
  },
  {
   "cell_type": "code",
   "execution_count": null,
   "id": "d941c9bf",
   "metadata": {},
   "outputs": [],
   "source": [
    "print(\"train observations: \", train.size)\n",
    "print(\"validate observations: \", validate.size)\n",
    "print(\"test observations: \", test.size)"
   ]
  },
  {
   "cell_type": "markdown",
   "id": "9f561ff3",
   "metadata": {},
   "source": [
    "# Explore\n",
    "- We are not going to explore the scaled data at this time, but it is important that the data is scaled before moving into clustering.\n",
    "\n",
    "- Target Variable: 'log_error'"
   ]
  },
  {
   "cell_type": "code",
   "execution_count": null,
   "id": "cccba6e3",
   "metadata": {},
   "outputs": [],
   "source": [
    "#What are the distributions of each variable (train)\n",
    "for col in train.columns:\n",
    "    plt.figure(figsize=(4,2))\n",
    "    plt.hist(train[col])\n",
    "    plt.title(col)\n",
    "    plt.show()"
   ]
  },
  {
   "cell_type": "markdown",
   "id": "3db0a492",
   "metadata": {},
   "source": [
    "##### Takeawyas\n",
    "- right skewed tax_value, square_feet, and tax_rate\n",
    "- bit of a left skew on age\n",
    "- log_error normally distributed"
   ]
  },
  {
   "cell_type": "code",
   "execution_count": null,
   "id": "c99c3248",
   "metadata": {},
   "outputs": [],
   "source": [
    "#Does log error differ across counties?\n",
    "sns.boxplot(train.county_code, train.log_error)\n",
    "plt.title(\"Is there a difference in log_error across counties\")\n",
    "plt.show()"
   ]
  },
  {
   "cell_type": "code",
   "execution_count": null,
   "id": "3e3429fc",
   "metadata": {},
   "outputs": [],
   "source": [
    "#Is there a relationship between log_error and bathrooms?\n",
    "print(\"Is there a relationship between log_error and bathrooms?\")\n",
    "sns.jointplot(x = 'bathrooms', y = 'log_error', data=train)\n",
    "plt.xlabel(\"Bathrooms\")\n",
    "plt.ylabel(\"Log Error\")\n",
    "plt.show()"
   ]
  },
  {
   "cell_type": "code",
   "execution_count": null,
   "id": "775d47e7",
   "metadata": {},
   "outputs": [],
   "source": [
    "#Is there a relationship between log_error and bedrooms?\n",
    "# plot age by spending_score\n",
    "plt.scatter(train.bedrooms, train.log_error)\n",
    "plt.xlabel(\"bedrooms\")\n",
    "plt.ylabel(\"Log Error\")\n",
    "plt.title(\"Is there a relationship between log_error and bedrooms?\")\n",
    "plt.show()"
   ]
  },
  {
   "cell_type": "code",
   "execution_count": null,
   "id": "59f56367",
   "metadata": {},
   "outputs": [],
   "source": [
    "#Is there a relationship between log_error and square feet?\n",
    "plt.scatter(train.square_feet, train.log_error)\n",
    "plt.xlabel(\"Square Footage\")\n",
    "plt.ylabel(\"Log Error\")\n",
    "plt.title(\"Is there a relationship between log_error and bedrooms?\")\n",
    "plt.show()"
   ]
  },
  {
   "cell_type": "code",
   "execution_count": null,
   "id": "3aa45334",
   "metadata": {},
   "outputs": [],
   "source": [
    "#Is there a relationship between log_error and tax_value?\n",
    "plt.scatter(train.tax_value, train.log_error)\n",
    "plt.xlabel(\"Home Value\")\n",
    "plt.ylabel(\"Log Error\")\n",
    "plt.title(\"Is there a relationship between log_error and bedrooms?\")\n",
    "plt.show()"
   ]
  },
  {
   "cell_type": "code",
   "execution_count": null,
   "id": "8c08ba98",
   "metadata": {},
   "outputs": [],
   "source": [
    "train['le_bin'] = pd.cut(train.log_error, 4)\n",
    "\n",
    "train.head()"
   ]
  },
  {
   "cell_type": "code",
   "execution_count": null,
   "id": "b75bb491",
   "metadata": {},
   "outputs": [],
   "source": [
    "# box plot of the two groups and spending score\n",
    "sns.boxplot(train.le_bin, train.tax_value)\n",
    "plt.show()"
   ]
  },
  {
   "cell_type": "code",
   "execution_count": null,
   "id": "131d4f9b",
   "metadata": {},
   "outputs": [],
   "source": [
    "sns.boxplot(train.le_bin, train.square_feet)\n",
    "        "
   ]
  },
  {
   "cell_type": "code",
   "execution_count": null,
   "id": "8f0585cc",
   "metadata": {},
   "outputs": [],
   "source": [
    "sns.boxplot(train.le_bin, train.age)"
   ]
  },
  {
   "cell_type": "code",
   "execution_count": null,
   "id": "f9e676d7",
   "metadata": {},
   "outputs": [],
   "source": [
    "print(\"Interaction of variables along with younger vs older\\n(cutoff=40)\")\n",
    "sns.pairplot(train, hue='le_bin')\n",
    "plt.show()"
   ]
  },
  {
   "cell_type": "code",
   "execution_count": null,
   "id": "abb030a4",
   "metadata": {},
   "outputs": [],
   "source": []
  }
 ],
 "metadata": {
  "kernelspec": {
   "display_name": "Python 3",
   "language": "python",
   "name": "python3"
  },
  "language_info": {
   "codemirror_mode": {
    "name": "ipython",
    "version": 3
   },
   "file_extension": ".py",
   "mimetype": "text/x-python",
   "name": "python",
   "nbconvert_exporter": "python",
   "pygments_lexer": "ipython3",
   "version": "3.8.8"
  }
 },
 "nbformat": 4,
 "nbformat_minor": 5
}
