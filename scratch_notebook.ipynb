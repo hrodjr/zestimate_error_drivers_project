{
 "cells": [
  {
   "cell_type": "code",
   "execution_count": null,
   "id": "996ffcc1",
   "metadata": {},
   "outputs": [],
   "source": [
    "#https://towardsdatascience.com/geopandas-101-plot-any-data-with-a-latitude-and-longitude-on-a-map-98e01944b972"
   ]
  },
  {
   "cell_type": "code",
   "execution_count": null,
   "id": "a6b75585",
   "metadata": {},
   "outputs": [],
   "source": [
    "# ignore warnings\n",
    "import warnings\n",
    "warnings.filterwarnings(\"ignore\")\n",
    "\n",
    "#libraries\n",
    "import pandas as pd\n",
    "import numpy as np\n",
    "import seaborn as sns\n",
    "from datetime import date\n",
    "\n",
    "# Visualizing\n",
    "import matplotlib.pyplot as plt\n",
    "from matplotlib import cm\n",
    "import seaborn as sns\n",
    "from sklearn.model_selection import learning_curve\n",
    "\n",
    "pd.options.display.float_format = '{:20,.4f}'.format\n",
    "\n",
    "#my libraries\n",
    "from wrangle import get_connection, get_zillow_data, handle_missing_values, remove_columns, wrangle_zillow, remove_outliers, train_validate_test_split, get_hist, get_box\n",
    "from explore import explore_univariate, exp_bivariate_categorical, exp_bivariate_continuous, exp_multivariate, exp_bivariate_categorical, plot_against_target\n",
    "import env\n",
    "\n",
    "#library imports\n",
    "from datetime import date\n",
    "from sklearn.model_selection import train_test_split\n",
    "from sklearn.cluster import KMeans\n",
    "from sklearn.linear_model import LinearRegression, LassoLars, TweedieRegressor\n",
    "from sklearn.tree import DecisionTreeRegressor\n",
    "from sklearn.feature_selection import SelectKBest, f_regression, RFE\n",
    "from sklearn.preprocessing import MinMaxScaler, PolynomialFeatures\n",
    "from sklearn.metrics import mean_squared_error, r2_score\n",
    "\n",
    "# Statistical Tests\n",
    "import scipy.stats as stats"
   ]
  },
  {
   "cell_type": "code",
   "execution_count": null,
   "id": "8643318a",
   "metadata": {},
   "outputs": [],
   "source": [
    "df = get_zillow_data()\n",
    "df.head(2)"
   ]
  },
  {
   "cell_type": "code",
   "execution_count": null,
   "id": "cbf805b1",
   "metadata": {},
   "outputs": [],
   "source": [
    "df = wrangle_zillow(df)\n",
    "df.head(2)"
   ]
  },
  {
   "cell_type": "code",
   "execution_count": null,
   "id": "2a437cca",
   "metadata": {},
   "outputs": [],
   "source": [
    "train, validate, test = train_validate_test_split(df)\n",
    "print(\"train observations: \", train.shape)\n",
    "print(\"validate observations: \", validate.shape)\n",
    "print(\"test observations: \", test.shape)"
   ]
  },
  {
   "cell_type": "markdown",
   "id": "e4bb5a9f",
   "metadata": {},
   "source": [
    "# Explore\n",
    "- We are not going to explore the scaled data at this time, but it is important that the data is scaled before moving into clustering.\n",
    "\n",
    "- Target Variable: 'log_error'"
   ]
  },
  {
   "cell_type": "code",
   "execution_count": null,
   "id": "d38ed41b",
   "metadata": {},
   "outputs": [],
   "source": [
    "#What are the distributions of each variable (train)\n",
    "for col in train.columns:\n",
    "    plt.figure(figsize=(4,2))\n",
    "    plt.hist(train[col])\n",
    "    plt.title(col)\n",
    "    plt.show()"
   ]
  },
  {
   "cell_type": "markdown",
   "id": "796890cd",
   "metadata": {},
   "source": [
    "##### Takeawyas\n",
    "- right skewed tax_value, square_feet, and tax_rate\n",
    "- bit of a left skew on age\n",
    "- log_error normally distributed"
   ]
  },
  {
   "cell_type": "code",
   "execution_count": null,
   "id": "3229e1ed",
   "metadata": {},
   "outputs": [],
   "source": [
    "variables = ['bathrooms', 'bedrooms', 'sqft', 'latitude', 'longitude', 'lot_size', 'tax_value', 'age', \n",
    "            'tax_rate', 'price_per_sqft']"
   ]
  },
  {
   "cell_type": "code",
   "execution_count": null,
   "id": "8d7d77a5",
   "metadata": {},
   "outputs": [],
   "source": [
    "plot_against_target(df = train, target = 'logerror', var_list = variables)"
   ]
  },
  {
   "cell_type": "code",
   "execution_count": null,
   "id": "ffa5f7cd",
   "metadata": {},
   "outputs": [],
   "source": [
    "cols = ['age', 'latitude', 'longitude', 'logerror']\n",
    "\n",
    "sns.pairplot(data = train[cols], corner=True)\n",
    "\n",
    "plt.suptitle('Amount of error is to see with Logerror', fontsize = 15)\n",
    "\n",
    "plt.show()"
   ]
  },
  {
   "cell_type": "code",
   "execution_count": null,
   "id": "26f7a3f4",
   "metadata": {
    "scrolled": true
   },
   "outputs": [],
   "source": [
    "sns.barplot(x=\"county\", y=\"logerror\", data=train)"
   ]
  },
  {
   "cell_type": "markdown",
   "id": "ad13f81c",
   "metadata": {},
   "source": [
    "##### Test whether or not Orange County has a higher log error then the rest of the population\n",
    "\n",
    "- stats.ttest_ind(train[train.county == 'los_angeles'].logerror, train[train.county == 'orange'].logerror, equal_var=False)\n",
    "\n",
    "- significance in location\n",
    "\n",
    "##### Is there a relationship between bedroomcount and logerror?\n",
    "- H0: Variance in logerror for homes with 5 or less bedrooms is equivalent to those with more than 5 bedrooms\n",
    "- alpha of 0.05\n",
    "- stats.levene(train[train.bedroomcnt > 5].logerror, train[train.bedroomcnt <= 5].logerror)\n",
    "\n",
    "##### Accounting for Bedroom counts, is there a relationship between error and geolocation via long/lat?\n",
    "- train['abs_logerr'] = train.logerror.apply(lambda x: x if x >= 0 else -x)\n",
    "- plt.figure(figsize=(14,8))\n",
    "- sns.scatterplot(x='longitude', y='latitude', hue='county', size='abs_logerr', sizes=(0,300), data=train)\n",
    "- plt.legend()\n",
    "- plt.title('Geolocation and Absolute Logerror')\n",
    "- plt.show()"
   ]
  },
  {
   "cell_type": "code",
   "execution_count": null,
   "id": "25dcce94",
   "metadata": {},
   "outputs": [],
   "source": [
    "sns.boxplot(train.county, train.logerror)\n",
    "plt.title('Potential difference in logerror across counties')\n",
    "plt.ylim(-.16, .16)\n",
    "plt.show()"
   ]
  },
  {
   "cell_type": "code",
   "execution_count": null,
   "id": "41c80526",
   "metadata": {},
   "outputs": [],
   "source": [
    "cols = ['bathrooms', 'bedrooms', 'sqft', 'price_per_sqft', 'lot_size', 'tax_value', 'logerror']\n",
    "\n",
    "sns.pairplot(data = train[cols], corner=True)\n",
    "\n",
    "plt.suptitle('Amount of error is to see with Logerror', fontsize = 15)\n",
    "\n",
    "plt.show()"
   ]
  },
  {
   "cell_type": "markdown",
   "id": "30c1034e",
   "metadata": {},
   "source": [
    "1. Higher Log errors with homes these features:\n",
    "    - 2-4 bathrooms: Highest 2.5\n",
    "    - 2-5 bedrooms: Highest 3 bedroom\n",
    "    - < 2500sqft: Highsest 1,000\n",
    "    - ?? Lot size\n",
    "    - ?? Home value\n",
    "    - roughly 60 yrs old\n",
    "    - ?? Tax rate\n",
    "    - < 1,000 dollars per sqft: Highest 250 dollars\n",
    "    "
   ]
  },
  {
   "cell_type": "markdown",
   "id": "4d7bd19a",
   "metadata": {},
   "source": [
    "# Clustering"
   ]
  },
  {
   "cell_type": "markdown",
   "id": "a9b73d9c",
   "metadata": {},
   "source": [
    "- age, long, lat\n",
    "- ppsqft, bath, bed\n",
    "- tax_value, sqft, ppsqft"
   ]
  },
  {
   "cell_type": "markdown",
   "id": "33950777",
   "metadata": {},
   "source": [
    "## Scaled Data"
   ]
  },
  {
   "cell_type": "code",
   "execution_count": null,
   "id": "ba50a43e",
   "metadata": {},
   "outputs": [],
   "source": [
    "#scale\n",
    "# Start w/ empty copies to retain the original splits\n",
    "train_scaled = train.copy()\n",
    "scaler = MinMaxScaler()\n",
    "cols = train.drop(columns=[\"county\"]).columns.tolist()\n",
    "train_scaled[cols] = scaler.fit_transform(train[cols])\n",
    "# Add back in the gender column to the dataframes\n",
    "train_scaled[\"county\"] = train.county.copy()"
   ]
  },
  {
   "cell_type": "markdown",
   "id": "f5604d7f",
   "metadata": {},
   "source": [
    "## cluster 1"
   ]
  },
  {
   "cell_type": "code",
   "execution_count": null,
   "id": "65e19a36",
   "metadata": {},
   "outputs": [],
   "source": [
    "X = train_scaled[['latitude', 'longitude']]\n",
    "kmeans = KMeans(n_clusters=5)\n",
    "kmeans.fit(X)\n",
    "train_scaled['cluster'] = kmeans.predict(X)\n",
    "centroids = pd.DataFrame(kmeans.cluster_centers_, columns=X.columns)"
   ]
  },
  {
   "cell_type": "code",
   "execution_count": null,
   "id": "1aad8520",
   "metadata": {},
   "outputs": [],
   "source": [
    "train_scaled.groupby('cluster')['latitude', 'longitude'].mean()"
   ]
  },
  {
   "cell_type": "code",
   "execution_count": null,
   "id": "7569254c",
   "metadata": {},
   "outputs": [],
   "source": [
    "plt.figure(figsize=(14, 9))\n",
    "\n",
    "for cluster, subset in train_scaled.groupby('cluster'):\n",
    "    plt.scatter(subset.longitude, subset.latitude, label='cluster ' + str(cluster), alpha=.6)\n",
    "\n",
    "centroids.plot.scatter(y='latitude', x='longitude', c='black', marker='x', s=1000, ax=plt.gca(), label='centroid')\n",
    "\n",
    "plt.legend()\n",
    "plt.xlabel('longitude')\n",
    "plt.ylabel('latitude')\n",
    "plt.title('Visualizing Cluster Centers')"
   ]
  },
  {
   "cell_type": "code",
   "execution_count": null,
   "id": "83c93bac",
   "metadata": {},
   "outputs": [],
   "source": [
    "with plt.style.context('seaborn-whitegrid'):\n",
    "    plt.figure(figsize=(9, 6))\n",
    "    pd.Series({k: KMeans(k).fit(X).inertia_ for k in range(2, 12)}).plot(marker='x')\n",
    "    plt.xticks(range(2, 12))\n",
    "    plt.xlabel('k')\n",
    "    plt.ylabel('inertia')\n",
    "    plt.title('Change in inertia as k increases')"
   ]
  },
  {
   "cell_type": "code",
   "execution_count": null,
   "id": "5e1b7250",
   "metadata": {},
   "outputs": [],
   "source": [
    "fig, axs = plt.subplots(2, 2, figsize=(13, 13), sharex=True, sharey=True)\n",
    "\n",
    "for ax, k in zip(axs.ravel(), range(2, 6)):\n",
    "    clusters = KMeans(k).fit(X).predict(X)\n",
    "    ax.scatter(X.latitude, X.longitude, c=clusters)\n",
    "    ax.set(title='k = {}'.format(k), xlabel='sepal length', ylabel='petal length')\n"
   ]
  },
  {
   "cell_type": "markdown",
   "id": "7992b0a2",
   "metadata": {},
   "source": [
    "## cluster 2"
   ]
  },
  {
   "cell_type": "code",
   "execution_count": null,
   "id": "3f27cd84",
   "metadata": {},
   "outputs": [],
   "source": [
    "X = train_scaled[['sqft', 'tax_value']]\n",
    "kmeans = KMeans(n_clusters=3)\n",
    "kmeans.fit(X)\n",
    "train_scaled['cluster'] = kmeans.predict(X)\n",
    "centroids = pd.DataFrame(kmeans.cluster_centers_, columns=X.columns)"
   ]
  },
  {
   "cell_type": "code",
   "execution_count": null,
   "id": "038d745f",
   "metadata": {},
   "outputs": [],
   "source": [
    "train_scaled.groupby('cluster')['sqft', 'tax_value'].mean()"
   ]
  },
  {
   "cell_type": "code",
   "execution_count": null,
   "id": "a0c12f47",
   "metadata": {},
   "outputs": [],
   "source": [
    "plt.figure(figsize=(14, 9))\n",
    "\n",
    "for cluster, subset in train_scaled.groupby('cluster'):\n",
    "    plt.scatter(subset.tax_value, subset.sqft, label='cluster ' + str(cluster), alpha=.6)\n",
    "\n",
    "centroids.plot.scatter(y='sqft', x='tax_value', c='black', marker='x', s=1000, ax=plt.gca(), label='centroid')\n",
    "\n",
    "plt.legend()\n",
    "plt.xlabel('tax_value')\n",
    "plt.ylabel('sqft')\n",
    "plt.title('Visualizing Cluster Centers')"
   ]
  },
  {
   "cell_type": "code",
   "execution_count": null,
   "id": "d5b4a986",
   "metadata": {},
   "outputs": [],
   "source": [
    "with plt.style.context('seaborn-whitegrid'):\n",
    "    plt.figure(figsize=(9, 6))\n",
    "    pd.Series({k: KMeans(k).fit(X).inertia_ for k in range(2, 12)}).plot(marker='x')\n",
    "    plt.xticks(range(2, 12))\n",
    "    plt.xlabel('k')\n",
    "    plt.ylabel('inertia')\n",
    "    plt.title('Change in inertia as k increases')"
   ]
  },
  {
   "cell_type": "code",
   "execution_count": null,
   "id": "2c96224d",
   "metadata": {},
   "outputs": [],
   "source": [
    "fig, axs = plt.subplots(2, 2, figsize=(13, 13), sharex=True, sharey=True)\n",
    "\n",
    "for ax, k in zip(axs.ravel(), range(2, 6)):\n",
    "    clusters = KMeans(k).fit(X).predict(X)\n",
    "    ax.scatter(X.sqft, X.tax_value, c=clusters)\n",
    "    ax.set(title='k = {}'.format(k), xlabel='tax_value', ylabel='sqft')\n"
   ]
  },
  {
   "cell_type": "markdown",
   "id": "5fc439db",
   "metadata": {},
   "source": [
    "## Cluster 3"
   ]
  },
  {
   "cell_type": "code",
   "execution_count": null,
   "id": "450105b3",
   "metadata": {},
   "outputs": [],
   "source": [
    "X = train_scaled[['sqft', 'logerror']]\n",
    "kmeans = KMeans(n_clusters=3)\n",
    "kmeans.fit(X)\n",
    "train_scaled['cluster'] = kmeans.predict(X)\n",
    "centroids = pd.DataFrame(kmeans.cluster_centers_, columns=X.columns)"
   ]
  },
  {
   "cell_type": "code",
   "execution_count": null,
   "id": "f22b98da",
   "metadata": {},
   "outputs": [],
   "source": [
    "train_scaled.groupby('cluster')['sqft', 'logerror'].mean()"
   ]
  },
  {
   "cell_type": "code",
   "execution_count": null,
   "id": "2c0bc561",
   "metadata": {},
   "outputs": [],
   "source": [
    "plt.figure(figsize=(14, 9))\n",
    "\n",
    "for cluster, subset in train_scaled.groupby('cluster'):\n",
    "    plt.scatter(subset.sqft, subset.logerror, label='cluster ' + str(cluster), alpha=.6)\n",
    "\n",
    "centroids.plot.scatter(y='logerror', x='sqft', c='black', marker='x', s=1000, ax=plt.gca(), label='centroid')\n",
    "\n",
    "plt.legend()\n",
    "plt.xlabel('logerror')\n",
    "plt.ylabel('sqft')\n",
    "plt.title('Visualizing Cluster Centers')"
   ]
  },
  {
   "cell_type": "code",
   "execution_count": null,
   "id": "8cc22b5b",
   "metadata": {},
   "outputs": [],
   "source": [
    "with plt.style.context('seaborn-whitegrid'):\n",
    "    plt.figure(figsize=(9, 6))\n",
    "    pd.Series({k: KMeans(k).fit(X).inertia_ for k in range(2, 12)}).plot(marker='x')\n",
    "    plt.xticks(range(2, 12))\n",
    "    plt.xlabel('k')\n",
    "    plt.ylabel('inertia')\n",
    "    plt.title('Change in inertia as k increases')"
   ]
  },
  {
   "cell_type": "code",
   "execution_count": null,
   "id": "119dbc23",
   "metadata": {},
   "outputs": [],
   "source": [
    "fig, axs = plt.subplots(2, 2, figsize=(13, 13), sharex=True, sharey=True)\n",
    "\n",
    "for ax, k in zip(axs.ravel(), range(2, 6)):\n",
    "    clusters = KMeans(k).fit(X).predict(X)\n",
    "    ax.scatter(X.sqft, X.logerror, c=clusters)\n",
    "    ax.set(title='k = {}'.format(k), xlabel='logerror', ylabel='sqft')"
   ]
  },
  {
   "cell_type": "code",
   "execution_count": null,
   "id": "e99a5d66",
   "metadata": {},
   "outputs": [],
   "source": []
  },
  {
   "cell_type": "code",
   "execution_count": null,
   "id": "e97ad365",
   "metadata": {},
   "outputs": [],
   "source": []
  },
  {
   "cell_type": "code",
   "execution_count": null,
   "id": "e3515ada",
   "metadata": {},
   "outputs": [],
   "source": []
  },
  {
   "cell_type": "code",
   "execution_count": null,
   "id": "eb97071f",
   "metadata": {},
   "outputs": [],
   "source": []
  },
  {
   "cell_type": "code",
   "execution_count": null,
   "id": "f0030d02",
   "metadata": {},
   "outputs": [],
   "source": []
  },
  {
   "cell_type": "code",
   "execution_count": null,
   "id": "982a3930",
   "metadata": {},
   "outputs": [],
   "source": []
  },
  {
   "cell_type": "code",
   "execution_count": null,
   "id": "c422506e",
   "metadata": {},
   "outputs": [],
   "source": []
  }
 ],
 "metadata": {
  "kernelspec": {
   "display_name": "Python 3",
   "language": "python",
   "name": "python3"
  },
  "language_info": {
   "codemirror_mode": {
    "name": "ipython",
    "version": 3
   },
   "file_extension": ".py",
   "mimetype": "text/x-python",
   "name": "python",
   "nbconvert_exporter": "python",
   "pygments_lexer": "ipython3",
   "version": "3.8.8"
  }
 },
 "nbformat": 4,
 "nbformat_minor": 5
}
