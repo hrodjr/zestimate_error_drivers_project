{
 "cells": [
  {
   "cell_type": "code",
   "execution_count": null,
   "id": "c2991b6e",
   "metadata": {},
   "outputs": [],
   "source": [
    "# ignore warnings\n",
    "import warnings\n",
    "warnings.filterwarnings(\"ignore\")\n",
    "\n",
    "#libraries\n",
    "import pandas as pd\n",
    "import numpy as np\n",
    "from datetime import date\n",
    "\n",
    "# Visualizing\n",
    "import matplotlib.pyplot as plt\n",
    "from matplotlib import cm\n",
    "import seaborn as sns\n",
    "#Visual format\n",
    "pd.options.display.float_format = '{:20,.4f}'.format\n",
    "\n",
    "#my libraries\n",
    "from wrangle import get_zillow_data, wrangle_zillow, remove_outliers, train_validate_test_split, get_hist, get_box\n",
    "from explore import inertia, variable_distributions, plot_against_target\n",
    "import evaluate\n",
    "import model\n",
    "import env\n",
    "\n",
    "#library imports\n",
    "from datetime import date\n",
    "from sklearn.model_selection import train_test_split\n",
    "from sklearn.cluster import KMeans\n",
    "from sklearn.linear_model import LinearRegression, LassoLars\n",
    "from sklearn.feature_selection import SelectKBest, f_regression, RFE\n",
    "from sklearn.preprocessing import MinMaxScaler, PolynomialFeatures\n",
    "from sklearn.metrics import mean_squared_error, r2_score\n",
    "from sklearn.model_selection import learning_curve\n",
    "\n",
    "# Statistical Tests\n",
    "import scipy.stats as stats\n",
    "\n",
    "#alpha\n",
    "alpha = .05"
   ]
  },
  {
   "cell_type": "markdown",
   "id": "145d2288",
   "metadata": {},
   "source": [
    "# Executive Summary"
   ]
  },
  {
   "cell_type": "markdown",
   "id": "f4f23305",
   "metadata": {},
   "source": [
    "## Plan"
   ]
  },
  {
   "cell_type": "markdown",
   "id": "1223cac5",
   "metadata": {},
   "source": [
    "## Acquired"
   ]
  },
  {
   "cell_type": "code",
   "execution_count": null,
   "id": "30988c40",
   "metadata": {},
   "outputs": [],
   "source": [
    "df = get_zillow_data()\n",
    "df.head(2)"
   ]
  },
  {
   "cell_type": "markdown",
   "id": "1dd4e249",
   "metadata": {},
   "source": [
    "## Prepared"
   ]
  },
  {
   "cell_type": "code",
   "execution_count": null,
   "id": "3b97aec7",
   "metadata": {},
   "outputs": [],
   "source": [
    "df = wrangle_zillow(df)\n",
    "df.head(2)"
   ]
  },
  {
   "cell_type": "markdown",
   "id": "a76528eb",
   "metadata": {},
   "source": [
    "### Split"
   ]
  },
  {
   "cell_type": "code",
   "execution_count": null,
   "id": "6198f4ac",
   "metadata": {},
   "outputs": [],
   "source": [
    "train, validate, test = train_validate_test_split(df)\n",
    "print(\"train observations by shape: \", train.shape)\n",
    "print(\"validate observations by shape: \", validate.shape)\n",
    "print(\"test observations by shape: \", test.shape)"
   ]
  },
  {
   "cell_type": "markdown",
   "id": "7d88c2f9",
   "metadata": {},
   "source": [
    "## Explore"
   ]
  },
  {
   "cell_type": "markdown",
   "id": "4e39e49d",
   "metadata": {},
   "source": [
    "##### Train variable distributions"
   ]
  },
  {
   "cell_type": "code",
   "execution_count": null,
   "id": "8f305040",
   "metadata": {},
   "outputs": [],
   "source": [
    "variable_distributions(train)"
   ]
  },
  {
   "cell_type": "markdown",
   "id": "61885867",
   "metadata": {},
   "source": [
    "##### Log error distributions"
   ]
  },
  {
   "cell_type": "code",
   "execution_count": null,
   "id": "c339f454",
   "metadata": {},
   "outputs": [],
   "source": [
    "plot_against_target(train)"
   ]
  },
  {
   "cell_type": "code",
   "execution_count": null,
   "id": "7e109476",
   "metadata": {},
   "outputs": [],
   "source": [
    "sns.barplot(x=\"county\", y=\"logerror\", data=train)"
   ]
  },
  {
   "cell_type": "markdown",
   "id": "1d151c0d",
   "metadata": {},
   "source": [
    "### Clustering"
   ]
  },
  {
   "cell_type": "markdown",
   "id": "5faf3b21",
   "metadata": {},
   "source": [
    "#### Scale"
   ]
  },
  {
   "cell_type": "code",
   "execution_count": null,
   "id": "72978b46",
   "metadata": {},
   "outputs": [],
   "source": [
    "#empty copies to retain the original splits\n",
    "train_scaled = train.copy()\n",
    "validate_scaled = validate.copy()\n",
    "test_scaled = test.copy()\n",
    "#scale\n",
    "scaler = MinMaxScaler()\n",
    "#drop object column\n",
    "cols = train.drop(columns=[\"county\"]).columns.tolist()\n",
    "#fit scaled data\n",
    "train_scaled[cols] = scaler.fit_transform(train[cols])\n",
    "validate_scaled[cols] = scaler.fit_transform(validate[cols])\n",
    "test_scaled[cols] = scaler.fit_transform(test[cols])\n",
    "#add object column back to the split dataframes\n",
    "train_scaled[\"county\"] = train.county.copy()\n",
    "validate_scaled[\"county\"] = validate.county.copy()\n",
    "test_scaled[\"county\"] = test.county.copy()"
   ]
  },
  {
   "cell_type": "code",
   "execution_count": null,
   "id": "1aa2f2d3",
   "metadata": {},
   "outputs": [],
   "source": [
    "#create heatmap with scaled data\n",
    "plt.figure(figsize=(8,12))\n",
    "value_heatmap = sns.heatmap(train.corr()[['abs_logerror']].sort_values(by='abs_logerror', ascending=True), \n",
    "                            cmap='PuOr', vmin=-.5, vmax=.5, annot=True)\n",
    "value_heatmap.set_title('Feautures Correlating with Absolute Logerror')\n",
    "plt.show()"
   ]
  },
  {
   "cell_type": "markdown",
   "id": "84f09757",
   "metadata": {},
   "source": [
    "#### Cluster 1: Latitude and longitude clusters"
   ]
  },
  {
   "cell_type": "code",
   "execution_count": null,
   "id": "41c6ac0b",
   "metadata": {},
   "outputs": [],
   "source": [
    "X = train_scaled[['latitude', 'longitude']]\n",
    "kmeans = KMeans(n_clusters=4)\n",
    "kmeans.fit(X)\n",
    "train_scaled['cluster'] = kmeans.predict(X)\n",
    "centroids = pd.DataFrame(kmeans.cluster_centers_, columns=X.columns)\n",
    "train_scaled.groupby('cluster')['latitude', 'longitude'].mean()"
   ]
  },
  {
   "cell_type": "code",
   "execution_count": null,
   "id": "fca37a38",
   "metadata": {
    "scrolled": false
   },
   "outputs": [],
   "source": [
    "plt.figure(figsize=(14, 9))\n",
    "\n",
    "for cluster, subset in train_scaled.groupby('cluster'):\n",
    "    plt.scatter(subset.longitude, subset.latitude, label='cluster ' + str(cluster), alpha=.6)\n",
    "    centroids.plot.scatter(y='latitude', x='longitude', c='black', marker='x', s=1000, ax=plt.gca(), label='centroid')\n",
    "\n",
    "plt.legend()\n",
    "plt.xlabel('Longitude')\n",
    "plt.ylabel('Latitude')\n",
    "plt.title('Visualizing Cluster Centers')"
   ]
  },
  {
   "cell_type": "code",
   "execution_count": null,
   "id": "86cf6d69",
   "metadata": {},
   "outputs": [],
   "source": [
    "inertia ()"
   ]
  },
  {
   "cell_type": "markdown",
   "id": "08c00991",
   "metadata": {},
   "source": [
    "#### Cluster 2: Log error to age of the home clusters"
   ]
  },
  {
   "cell_type": "code",
   "execution_count": null,
   "id": "db18d159",
   "metadata": {},
   "outputs": [],
   "source": [
    "X = train_scaled[['logerror', 'age']]\n",
    "kmeans = KMeans(n_clusters=3)\n",
    "kmeans.fit(X)\n",
    "train_scaled['cluster'] = kmeans.predict(X)\n",
    "centroids = pd.DataFrame(kmeans.cluster_centers_, columns=X.columns)\n",
    "train_scaled.groupby('cluster')['logerror', 'age'].mean()"
   ]
  },
  {
   "cell_type": "code",
   "execution_count": null,
   "id": "c0d04a43",
   "metadata": {},
   "outputs": [],
   "source": [
    "plt.figure(figsize=(14, 9))\n",
    "\n",
    "for cluster, subset in train_scaled.groupby('cluster'):\n",
    "    plt.scatter(subset.age, subset.logerror, label='cluster ' + str(cluster), alpha=.6)\n",
    "centroids.plot.scatter(y='logerror', x='age', c='black', marker='x', s=1000, ax=plt.gca(), label='centroid')\n",
    "\n",
    "plt.legend()\n",
    "plt.xlabel('logerror')\n",
    "plt.ylabel('age')\n",
    "plt.title('Visualizing Cluster Centers')"
   ]
  },
  {
   "cell_type": "code",
   "execution_count": null,
   "id": "c0ea8be0",
   "metadata": {},
   "outputs": [],
   "source": [
    "inertia ()"
   ]
  },
  {
   "cell_type": "markdown",
   "id": "e9caabc5",
   "metadata": {},
   "source": [
    "#### Cluster 6: Log error to home square footage clusters"
   ]
  },
  {
   "cell_type": "code",
   "execution_count": null,
   "id": "061a4e99",
   "metadata": {},
   "outputs": [],
   "source": [
    "X = train_scaled[['logerror', 'sqft']]\n",
    "kmeans = KMeans(n_clusters=5)\n",
    "kmeans.fit(X)\n",
    "train_scaled['cluster'] = kmeans.predict(X)\n",
    "centroids = pd.DataFrame(kmeans.cluster_centers_, columns=X.columns)\n",
    "train_scaled.groupby('cluster')['logerror', 'sqft'].mean()"
   ]
  },
  {
   "cell_type": "code",
   "execution_count": null,
   "id": "b2974e88",
   "metadata": {},
   "outputs": [],
   "source": [
    "plt.figure(figsize=(14, 9))\n",
    "\n",
    "for cluster, subset in train_scaled.groupby('cluster'):\n",
    "    plt.scatter(subset.sqft, subset.logerror, label='cluster ' + str(cluster), alpha=.6)\n",
    "centroids.plot.scatter(y='logerror', x='sqft', c='black', marker='x', s=1000, ax=plt.gca(), label='centroid')\n",
    "\n",
    "plt.legend()\n",
    "plt.xlabel('sqft')\n",
    "plt.ylabel('logerror')\n",
    "plt.title('Visualizing Cluster Centers')"
   ]
  },
  {
   "cell_type": "code",
   "execution_count": null,
   "id": "40cd2b5d",
   "metadata": {},
   "outputs": [],
   "source": [
    "inertia ()"
   ]
  },
  {
   "cell_type": "markdown",
   "id": "362eb5cc",
   "metadata": {},
   "source": [
    "#### Cluster 7: Log error to price per square footage clusters"
   ]
  },
  {
   "cell_type": "code",
   "execution_count": null,
   "id": "cdce5646",
   "metadata": {},
   "outputs": [],
   "source": [
    "X = train_scaled[['logerror', 'price_per_sqft']]\n",
    "kmeans = KMeans(n_clusters=4)\n",
    "kmeans.fit(X)\n",
    "train_scaled['cluster'] = kmeans.predict(X)\n",
    "centroids = pd.DataFrame(kmeans.cluster_centers_, columns=X.columns)\n",
    "train_scaled.groupby('cluster')['logerror', 'price_per_sqft'].mean()"
   ]
  },
  {
   "cell_type": "code",
   "execution_count": null,
   "id": "e40db5a7",
   "metadata": {},
   "outputs": [],
   "source": [
    "plt.figure(figsize=(14, 9))\n",
    "\n",
    "for cluster, subset in train_scaled.groupby('cluster'):\n",
    "    plt.scatter(subset.price_per_sqft, subset.logerror, label='cluster ' + str(cluster), alpha=.6)\n",
    "\n",
    "centroids.plot.scatter(y='logerror', x='price_per_sqft', c='black', marker='x', s=1000, ax=plt.gca(), label='centroid')\n",
    "\n",
    "plt.legend()\n",
    "plt.xlabel('price_per_sqft')\n",
    "plt.ylabel('loerror')\n",
    "plt.title('Visualizing Cluster Centers')"
   ]
  },
  {
   "cell_type": "code",
   "execution_count": null,
   "id": "938ab208",
   "metadata": {},
   "outputs": [],
   "source": [
    "inertia()"
   ]
  },
  {
   "cell_type": "markdown",
   "id": "45941b14",
   "metadata": {},
   "source": [
    "#### Cluster 8: Log error to lot size clusters"
   ]
  },
  {
   "cell_type": "code",
   "execution_count": null,
   "id": "d0ab23b6",
   "metadata": {},
   "outputs": [],
   "source": [
    "X = train_scaled[['logerror', 'lot_size']]\n",
    "kmeans = KMeans(n_clusters=4)\n",
    "kmeans.fit(X)\n",
    "train_scaled['cluster'] = kmeans.predict(X)\n",
    "centroids = pd.DataFrame(kmeans.cluster_centers_, columns=X.columns)\n",
    "train_scaled.groupby('cluster')['logerror', 'lot_size'].mean()"
   ]
  },
  {
   "cell_type": "code",
   "execution_count": null,
   "id": "00e249b6",
   "metadata": {},
   "outputs": [],
   "source": [
    "plt.figure(figsize=(14, 9))\n",
    "\n",
    "for cluster, subset in train_scaled.groupby('cluster'):\n",
    "    plt.scatter(subset.lot_size, subset.logerror, label='cluster ' + str(cluster), alpha=.6)\n",
    "\n",
    "centroids.plot.scatter(y='logerror', x='lot_size', c='black', marker='x', s=1000, ax=plt.gca(), label='centroid')\n",
    "\n",
    "plt.legend()\n",
    "plt.xlabel('lot_size')\n",
    "plt.ylabel('loerror')\n",
    "plt.title('Visualizing Cluster Centers')"
   ]
  },
  {
   "cell_type": "code",
   "execution_count": null,
   "id": "1ca15a10",
   "metadata": {},
   "outputs": [],
   "source": [
    "inertia()"
   ]
  },
  {
   "cell_type": "markdown",
   "id": "2eea4961",
   "metadata": {},
   "source": [
    "#### Cluster 9: Log error to home value clusters"
   ]
  },
  {
   "cell_type": "code",
   "execution_count": null,
   "id": "d1fc7cb7",
   "metadata": {},
   "outputs": [],
   "source": [
    "X = train_scaled[['logerror', 'tax_value']]\n",
    "kmeans = KMeans(n_clusters=4)\n",
    "kmeans.fit(X)\n",
    "train_scaled['cluster'] = kmeans.predict(X)\n",
    "centroids = pd.DataFrame(kmeans.cluster_centers_, columns=X.columns)\n",
    "train_scaled.groupby('cluster')['logerror', 'tax_value'].mean()"
   ]
  },
  {
   "cell_type": "code",
   "execution_count": null,
   "id": "f122d3f8",
   "metadata": {},
   "outputs": [],
   "source": [
    "plt.figure(figsize=(14, 9))\n",
    "\n",
    "for cluster, subset in train_scaled.groupby('cluster'):\n",
    "    plt.scatter(subset.tax_value, subset.logerror, label='cluster ' + str(cluster), alpha=.6)\n",
    "\n",
    "centroids.plot.scatter(y='logerror', x='tax_value', c='black', marker='x', s=1000, ax=plt.gca(), label='centroid')\n",
    "\n",
    "plt.legend()\n",
    "plt.xlabel('tax_value')\n",
    "plt.ylabel('loerror')\n",
    "plt.title('Visualizing Cluster Centers')"
   ]
  },
  {
   "cell_type": "code",
   "execution_count": null,
   "id": "2cdf26e4",
   "metadata": {},
   "outputs": [],
   "source": [
    "inertia()"
   ]
  },
  {
   "cell_type": "markdown",
   "id": "a0c9cbd9",
   "metadata": {},
   "source": [
    "### Takeaways \n",
    "- Is a higher log error dependent on homes over 50 years old? (Cluster - 2)\n",
    "- Is a higher log error dependent on homes less 1000 sqft? (Cluster - 6)\n",
    "- Is a higher log error dependent on homes who's ppsqft is less 200? (Cluster - 7)\n",
    "- Is a higher log error dependent on homes with a smaller lot size? (Cluster - 8)\n",
    "- Is a higher log error dependent on less expensive homes? (Cluster - 9)"
   ]
  },
  {
   "cell_type": "markdown",
   "id": "d7b856f1",
   "metadata": {},
   "source": [
    "### Statistical Testing"
   ]
  },
  {
   "cell_type": "markdown",
   "id": "91759455",
   "metadata": {},
   "source": [
    "##### Is a higher log error dependent on homes over 50 years old? (Cluster - 2)"
   ]
  },
  {
   "cell_type": "code",
   "execution_count": null,
   "id": "ec2721f7",
   "metadata": {},
   "outputs": [],
   "source": [
    "Null = 'Is independent'\n",
    "Alternate = 'Is dependent'\n",
    "\n",
    "observed = pd.crosstab(train.logerror > 0, train.age > 50)\n",
    "chi2, p, degf, expected = stats.chi2_contingency(observed)\n",
    "\n",
    "print(f'chi^2 = {chi2:.4f}')\n",
    "print(f'p     = {p:.4f}')\n",
    "\n",
    "print('\\n')\n",
    "if p < alpha:\n",
    "    print(f'We reject the null and accept the alternate: {Alternate}')\n",
    "else:\n",
    "    print(f'We fail to reject the null and accept the null: {Null}')"
   ]
  },
  {
   "cell_type": "markdown",
   "id": "7896e036",
   "metadata": {},
   "source": [
    "##### Is a higher log error dependent on homes less 1000 sqft? (Cluster - 6)"
   ]
  },
  {
   "cell_type": "code",
   "execution_count": null,
   "id": "42e5ae6b",
   "metadata": {},
   "outputs": [],
   "source": [
    "Null = 'Is independent'\n",
    "Alternate = 'Is dependent'\n",
    "\n",
    "observed = pd.crosstab(train.logerror > 0, train.sqft > 1000)\n",
    "chi2, p, degf, expected = stats.chi2_contingency(observed)\n",
    "\n",
    "print(f'chi^2 = {chi2:.4f}')\n",
    "print(f'p     = {p:.4f}')\n",
    "\n",
    "print('\\n')\n",
    "if p < alpha:\n",
    "    print(f'We reject the null and accept the alternate: {Alternate}')\n",
    "else:\n",
    "    print(f'We fail to reject the null and accept the null: {Null}')"
   ]
  },
  {
   "cell_type": "markdown",
   "id": "432cf97a",
   "metadata": {},
   "source": [
    "##### Is a higher log error dependent on homes who's ppsqft is less 500? (Cluster - 7)"
   ]
  },
  {
   "cell_type": "code",
   "execution_count": null,
   "id": "943afa33",
   "metadata": {},
   "outputs": [],
   "source": [
    "Null = 'Is independent'\n",
    "Alternate = 'Is dependent'\n",
    "\n",
    "observed = pd.crosstab(train.logerror > 0, train.price_per_sqft < 500)\n",
    "chi2, p, degf, expected = stats.chi2_contingency(observed)\n",
    "\n",
    "print(f'chi^2 = {chi2:.4f}')\n",
    "print(f'p     = {p:.4f}')\n",
    "\n",
    "print('\\n')\n",
    "if p < alpha:\n",
    "    print(f'We reject the null and accept the alternate: {Alternate}')\n",
    "else:\n",
    "    print(f'We fail to reject the null and accept the null: {Null}')"
   ]
  },
  {
   "cell_type": "markdown",
   "id": "6f6c412b",
   "metadata": {},
   "source": [
    "##### Is a higher log error dependent on homes with a smaller lot size? (Cluster - 8)"
   ]
  },
  {
   "cell_type": "code",
   "execution_count": null,
   "id": "dfc4ed65",
   "metadata": {},
   "outputs": [],
   "source": [
    "Null = 'Is independent'\n",
    "Alternate = 'Is dependent'\n",
    "\n",
    "observed = pd.crosstab(train.logerror > 0, train.lot_size < 236)\n",
    "chi2, p, degf, expected = stats.chi2_contingency(observed)\n",
    "\n",
    "print(f'chi^2 = {chi2:.4f}')\n",
    "print(f'p     = {p:.4f}')\n",
    "\n",
    "print('\\n')\n",
    "if p < alpha:\n",
    "    print(f'We reject the null and accept the alternate: {Alternate}')\n",
    "else:\n",
    "    print(f'We fail to reject the null and accept the null: {Null}')"
   ]
  },
  {
   "cell_type": "markdown",
   "id": "addff500",
   "metadata": {},
   "source": [
    "##### Is a higher log error dependent on less expensive homes? (Cluster - 9)"
   ]
  },
  {
   "cell_type": "code",
   "execution_count": null,
   "id": "e98d8547",
   "metadata": {},
   "outputs": [],
   "source": [
    "Null = 'Is independent'\n",
    "Alternate = 'Is dependent'\n",
    "\n",
    "observed = pd.crosstab(train.logerror > 0, train.tax_value < 205000)\n",
    "chi2, p, degf, expected = stats.chi2_contingency(observed)\n",
    "\n",
    "print(f'chi^2 = {chi2:.4f}')\n",
    "print(f'p     = {p:.4f}')\n",
    "\n",
    "print('\\n')\n",
    "if p < alpha:\n",
    "    print(f'We reject the null and accept the alternate: {Alternate}')\n",
    "else:\n",
    "    print(f'We fail to reject the null and accept the null: {Null}')"
   ]
  },
  {
   "cell_type": "markdown",
   "id": "e6ce409b",
   "metadata": {},
   "source": [
    "## Model"
   ]
  },
  {
   "cell_type": "markdown",
   "id": "fd7b6c2a",
   "metadata": {},
   "source": [
    "### Feature Engineering"
   ]
  },
  {
   "cell_type": "code",
   "execution_count": null,
   "id": "5c8af30c",
   "metadata": {},
   "outputs": [],
   "source": [
    "X_train = train_scaled[['age', 'bathrooms', 'bedrooms', 'sqft', 'price_per_sqft', 'lot_size', 'tax_value']]#features\n",
    "y_train = train.logerror\n",
    "X_validate = validate_scaled[['age', 'bathrooms', 'bedrooms', 'sqft', 'price_per_sqft', 'lot_size', 'tax_value']]#features\n",
    "y_validate = validate.logerror\n",
    "X_test = test_scaled[['age', 'bathrooms', 'bedrooms', 'sqft', 'price_per_sqft', 'lot_size', 'tax_value']]#features\n",
    "y_test = test.logerror"
   ]
  },
  {
   "cell_type": "code",
   "execution_count": null,
   "id": "f26843bc",
   "metadata": {},
   "outputs": [],
   "source": [
    "evaluate.rfe(X_train,y_train,1)"
   ]
  },
  {
   "cell_type": "code",
   "execution_count": null,
   "id": "ece89af9",
   "metadata": {},
   "outputs": [],
   "source": [
    "evaluate.rfe(X_train,y_train,3)"
   ]
  },
  {
   "cell_type": "code",
   "execution_count": null,
   "id": "498ae197",
   "metadata": {},
   "outputs": [],
   "source": [
    "evaluate.select_kbest(X_train,y_train,1)"
   ]
  },
  {
   "cell_type": "code",
   "execution_count": null,
   "id": "8bcbdc29",
   "metadata": {},
   "outputs": [],
   "source": [
    "evaluate.select_kbest(X_train,y_train,3)"
   ]
  },
  {
   "cell_type": "markdown",
   "id": "0ae9205e",
   "metadata": {},
   "source": [
    "### Regression Modeling"
   ]
  },
  {
   "cell_type": "code",
   "execution_count": null,
   "id": "3d771583",
   "metadata": {},
   "outputs": [],
   "source": [
    "#baseline function calculates baseline and adds columns to the dataframe\n",
    "evaluate.get_baseline(train,train[['sqft']], train['logerror'])"
   ]
  },
  {
   "cell_type": "code",
   "execution_count": null,
   "id": "909c5cae",
   "metadata": {},
   "outputs": [],
   "source": [
    "evaluate.get_residuals(train, train['logerror'])"
   ]
  },
  {
   "cell_type": "code",
   "execution_count": null,
   "id": "c0eb16b3",
   "metadata": {},
   "outputs": [],
   "source": [
    "evaluate.plot_residual(train, train[['sqft']], train['logerror'])"
   ]
  },
  {
   "cell_type": "code",
   "execution_count": null,
   "id": "2bc6b61c",
   "metadata": {},
   "outputs": [],
   "source": [
    "evaluate.regression_errors(train, train['logerror'], train.yhat)"
   ]
  },
  {
   "cell_type": "code",
   "execution_count": null,
   "id": "44515b7f",
   "metadata": {},
   "outputs": [],
   "source": [
    "evaluate.baseline_mean_errors(train, train['logerror'], train.yhat_baseline)"
   ]
  },
  {
   "cell_type": "code",
   "execution_count": null,
   "id": "3cf06614",
   "metadata": {},
   "outputs": [],
   "source": [
    "evaluate.better_than_baseline(regression_errors = True, baseline_mean_errors = True)"
   ]
  },
  {
   "cell_type": "markdown",
   "id": "c60780d2",
   "metadata": {},
   "source": [
    "### Baseline Model"
   ]
  },
  {
   "cell_type": "code",
   "execution_count": null,
   "id": "f852c506",
   "metadata": {},
   "outputs": [],
   "source": [
    "model.model_baseline(y_train, y_validate, 'logerror')"
   ]
  },
  {
   "cell_type": "markdown",
   "id": "c3808bd5",
   "metadata": {},
   "source": [
    "#### Linear Regression"
   ]
  },
  {
   "cell_type": "code",
   "execution_count": null,
   "id": "3201ba2c",
   "metadata": {},
   "outputs": [],
   "source": [
    "model.linear_regression(y_train, X_train, y_validate, X_validate)"
   ]
  },
  {
   "cell_type": "markdown",
   "id": "eb57a9ca",
   "metadata": {},
   "source": [
    "#### LassoLars"
   ]
  },
  {
   "cell_type": "code",
   "execution_count": null,
   "id": "9aee98b5",
   "metadata": {},
   "outputs": [],
   "source": [
    "model.lassolars(y_train, X_train, y_validate, X_validate)"
   ]
  },
  {
   "cell_type": "markdown",
   "id": "204cccac",
   "metadata": {},
   "source": [
    "#### Tpolynomial Regression"
   ]
  },
  {
   "cell_type": "code",
   "execution_count": null,
   "id": "ccf60a0b",
   "metadata": {},
   "outputs": [],
   "source": [
    "model.polynomialregression(y_train, X_train, y_validate, X_validate, X_test)"
   ]
  },
  {
   "cell_type": "markdown",
   "id": "7e8d1420",
   "metadata": {},
   "source": [
    "### Test"
   ]
  },
  {
   "cell_type": "code",
   "execution_count": null,
   "id": "920d6eea",
   "metadata": {},
   "outputs": [],
   "source": [
    "model.linear_regression_test(X_test, y_test)"
   ]
  },
  {
   "cell_type": "markdown",
   "id": "478eb9fd",
   "metadata": {},
   "source": [
    "## Conclusion"
   ]
  }
 ],
 "metadata": {
  "kernelspec": {
   "display_name": "Python 3",
   "language": "python",
   "name": "python3"
  },
  "language_info": {
   "codemirror_mode": {
    "name": "ipython",
    "version": 3
   },
   "file_extension": ".py",
   "mimetype": "text/x-python",
   "name": "python",
   "nbconvert_exporter": "python",
   "pygments_lexer": "ipython3",
   "version": "3.8.8"
  }
 },
 "nbformat": 4,
 "nbformat_minor": 5
}
